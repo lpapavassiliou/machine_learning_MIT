{
 "cells": [
  {
   "cell_type": "code",
   "execution_count": 33,
   "id": "9c47d0c5",
   "metadata": {},
   "outputs": [
    {
     "name": "stdout",
     "output_type": "stream",
     "text": [
      "[[0.0854352  0.17706346 0.18637452 0.03387774 0.01724907]\n",
      " [0.10232032 0.05361658 0.04980465 0.14161446 0.15264399]]\n",
      "[-0.0513886   0.07342021]\n"
     ]
    }
   ],
   "source": [
    "import numpy as np\n",
    "\n",
    "x = np.array([0.2, -0.9, -1, 1.2, 1.8])\n",
    "\n",
    "mu = np.array([-3, 2])\n",
    "sigma2 = np.array([4, 4])\n",
    "p = np.array([0.5, 0.5])\n",
    "\n",
    "def gaussian(x, mu, sigma2):    # x is a single point, mu a single vector, sigma2 a scalar\n",
    "    d = 1\n",
    "    a = 2*np.pi*sigma2\n",
    "    a2 = 1/a**(d/2)\n",
    "    b1 = np.linalg.norm(x-mu)**2\n",
    "    b2 = -1/(2*sigma2)\n",
    "    return a2*np.exp(b2*b1)\n",
    "\n",
    "def e_step(x, mu, sigma2, p):\n",
    "    n = x.shape[0]\n",
    "    K = mu.shape[0]\n",
    "    likelihood = np.zeros((K,n))\n",
    "    \n",
    "    for j in range(K):\n",
    "        for i in range(n):\n",
    "            likelihood[j,i] = gaussian(x[i], mu[j], sigma2[j])\n",
    "            \n",
    "    normalizer = np.sum(likelihood,1)\n",
    "    \n",
    "    posterior = np.zeros((K,n))\n",
    "    for j in range(K):\n",
    "        for i in range(n):\n",
    "            posterior[j,i] = p[j]*likelihood[j,i]/normalizer[j]\n",
    "            \n",
    "    return posterior\n",
    "\n",
    "def m_step(x, posterior):\n",
    "    n = x.shape[0]\n",
    "    K = mu.shape[0]\n",
    "    n_models = np.sum(posterior,axis=1)\n",
    "    new_p = n_models/n\n",
    "    new_mu = np.zeros((K,))\n",
    "    new_sigma2 = np.zeros((K,))\n",
    "    for j in range(K):\n",
    "        new_mu[j] = (1/n)*np.dot(posterior[j],x)\n",
    "        new_sigma2[j] = (1/n_models[j])*np.dot(posterior[j],(x-new_mu[j])**2)\n",
    "    return new_mu, new_sigma2, new_p\n",
    "\n",
    "posterior = e_step(x, mu, sigma2, p)\n",
    "print(posterior)\n",
    "new_mu, new_sigma2, new_p = m_step(x, posterior)\n",
    "print(new_mu)\n"
   ]
  },
  {
   "cell_type": "code",
   "execution_count": null,
   "id": "58d7de00",
   "metadata": {},
   "outputs": [],
   "source": []
  }
 ],
 "metadata": {
  "kernelspec": {
   "display_name": "Python 3 (ipykernel)",
   "language": "python",
   "name": "python3"
  },
  "language_info": {
   "codemirror_mode": {
    "name": "ipython",
    "version": 3
   },
   "file_extension": ".py",
   "mimetype": "text/x-python",
   "name": "python",
   "nbconvert_exporter": "python",
   "pygments_lexer": "ipython3",
   "version": "3.8.10"
  }
 },
 "nbformat": 4,
 "nbformat_minor": 5
}
