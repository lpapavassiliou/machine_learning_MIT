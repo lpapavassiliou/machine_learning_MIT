{
 "cells": [
  {
   "cell_type": "code",
   "execution_count": 8,
   "id": "e062cba0",
   "metadata": {},
   "outputs": [
    {
     "name": "stdout",
     "output_type": "stream",
     "text": [
      "x\n",
      "[[1]\n",
      " [2]]\n",
      "M\n",
      "[[4 5]\n",
      " [6 7]\n",
      " [8 9]]\n",
      "y\n",
      "[[14]\n",
      " [20]\n",
      " [26]]\n",
      "grad\n",
      "[[1. 1. 1.]\n",
      " [2. 2. 2.]]\n"
     ]
    }
   ],
   "source": [
    "import numpy as np\n",
    "\n",
    "print(\"x\")\n",
    "x = np.array([[1], [2]])  # a vector of length n\n",
    "print(x)\n",
    "print(\"M\")\n",
    "M = np.array([[4, 5], [6, 7], [8, 9]])  # a matrix of size (m,n)\n",
    "print(M)\n",
    "print(\"y\")\n",
    "print(M@x)\n",
    "\n",
    "# Compute the outer product of x and a vector of ones of length m\n",
    "outer_product = np.outer(x, np.ones(M.shape[0]))\n",
    "\n",
    "# Print the result\n",
    "print(\"grad\")\n",
    "print(outer_product)\n"
   ]
  },
  {
   "cell_type": "code",
   "execution_count": 29,
   "id": "a4d4b2fe",
   "metadata": {},
   "outputs": [
    {
     "name": "stdout",
     "output_type": "stream",
     "text": [
      "dim is\n",
      "2\n",
      "det is\n",
      "0.15915494309189535\n",
      "quad\n",
      "-1.317880813606105\n",
      "-1.3178808136061053\n",
      "-0.9999999999999998\n"
     ]
    }
   ],
   "source": [
    "import numpy as np\n",
    "def gaussian_pdf(x, mu, sigma):\n",
    "    return  1/np.sqrt(2*np.pi*sigma**2)*np.exp(-0.5*(x-mu)**2)\n",
    "def multi_gaussian_pdf(x, mu, sigma):\n",
    "    sigma_inv = np.linalg.inv(sigma)\n",
    "    det_sigma = np.linalg.det(sigma)\n",
    "    dim = x.shape[0]\n",
    "    print(\"dim is\")\n",
    "    print(dim)\n",
    "    print(\"det is\")\n",
    "    print(det_sigma)\n",
    "    print(\"quad\")\n",
    "    return 1/np.sqrt( ( (2*np.pi)**dim )*det_sigma )*np.exp( -0.5*(x-mu).T@sigma_inv@(x-mu) )\n",
    "\n",
    "\n",
    "\n",
    "\n",
    "def multivariate_gaussian_pdf(x, mu, cov):\n",
    "    \"\"\"\n",
    "    This function returns the multivariate Gaussian probability density function (PDF)\n",
    "    for a given vector x with mean vector mu and covariance matrix cov.\n",
    "\n",
    "    :param x: (numpy.ndarray) The vector at which to evaluate the PDF.\n",
    "    :param mu: (numpy.ndarray) The mean vector of the distribution.\n",
    "    :param cov: (numpy.ndarray) The covariance matrix of the distribution.\n",
    "    :return: (float) The probability density function evaluated at x.\n",
    "    \"\"\"\n",
    "    k = len(mu)  # The dimension of the distribution\n",
    "    det = np.linalg.det(cov)  # The determinant of the covariance matrix\n",
    "    inv = np.linalg.inv(cov)  # The inverse of the covariance matrix\n",
    "    exp = np.exp(-0.5 * np.dot(np.dot((x - mu).T, inv), (x - mu)))  # The exponential term of the PDF\n",
    "    coeff = 1.0 / ((2 * np.pi)**(k/2) * det**0.5)  # The coefficient term of the PDF\n",
    "    return coeff * exp\n",
    "\n",
    "    \n",
    "x = np.array([1/np.sqrt(np.pi), 2])\n",
    "mu = np.array([0, 2])\n",
    "cov = np.diag( np.array([1/np.sqrt(2*np.pi), (1/np.sqrt(2*np.pi))]) )\n",
    "print(np.log(multi_gaussian_pdf(x, mu, sigma)))\n",
    "pdf = multivariate_gaussian_pdf(x, mu, cov)\n",
    "print(np.log(pdf))\n",
    "\n",
    "def function(x, sigma, mu, d):\n",
    "    a = 2*np.pi*sigma**2\n",
    "    a2 = 1/a**(d/2)\n",
    "    b1 = np.linalg.norm(x-mu)**2\n",
    "    b2 = -1/(2*sigma**2)\n",
    "    return a2*np.exp(b2*b1)\n",
    "print(np.log(function(x, sigma[0,0], mu, 2)))\n",
    "    \n",
    "    \n"
   ]
  },
  {
   "cell_type": "code",
   "execution_count": null,
   "id": "b467e9a1",
   "metadata": {},
   "outputs": [],
   "source": []
  }
 ],
 "metadata": {
  "kernelspec": {
   "display_name": "Python 3 (ipykernel)",
   "language": "python",
   "name": "python3"
  },
  "language_info": {
   "codemirror_mode": {
    "name": "ipython",
    "version": 3
   },
   "file_extension": ".py",
   "mimetype": "text/x-python",
   "name": "python",
   "nbconvert_exporter": "python",
   "pygments_lexer": "ipython3",
   "version": "3.8.10"
  }
 },
 "nbformat": 4,
 "nbformat_minor": 5
}
